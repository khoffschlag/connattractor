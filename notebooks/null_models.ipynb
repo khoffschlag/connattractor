{
 "cells": [
  {
   "cell_type": "markdown",
   "id": "98026609",
   "metadata": {},
   "source": [
    "# An extended evaluation of the results with various null-modelling appoaches"
   ]
  },
  {
   "cell_type": "code",
   "execution_count": 1,
   "id": "ac2f9201",
   "metadata": {
    "ExecuteTime": {
     "end_time": "2023-10-24T11:10:05.775325Z",
     "start_time": "2023-10-24T11:10:05.746882Z"
    }
   },
   "outputs": [],
   "source": [
    "import sys\n",
    "sys.path.append('..')\n",
    "import numpy as np\n",
    "import pandas as pd\n",
    "import seaborn as sns\n",
    "import matplotlib.pyplot as plt\n",
    "import matplotlib\n",
    "matplotlib.rc_file_defaults()\n",
    "from sklearn.preprocessing import StandardScaler\n",
    "import nilearn\n",
    "from tqdm import tqdm\n",
    "from connattractor import network, analysis\n",
    "%load_ext autoreload\n",
    "%autoreload 1\n",
    "%aimport connattractor.network\n",
    "%aimport connattractor.analysis"
   ]
  },
  {
   "cell_type": "markdown",
   "id": "3efd92b0",
   "metadata": {},
   "source": [
    "## Fractional occupancy"
   ]
  },
  {
   "cell_type": "markdown",
   "id": "a6551312",
   "metadata": {},
   "source": [
    "### load empirical data"
   ]
  },
  {
   "cell_type": "code",
   "execution_count": 3,
   "id": "63f9e9e0",
   "metadata": {
    "ExecuteTime": {
     "end_time": "2023-10-24T11:10:11.722924Z",
     "start_time": "2023-10-24T11:10:10.220489Z"
    }
   },
   "outputs": [
    {
     "name": "stdout",
     "output_type": "stream",
     "text": [
      "perc. scrubbed: 0.515\n"
     ]
    }
   ],
   "source": [
    "import os\n",
    "# load resting state data\n",
    "_fd_thr = 0.15\n",
    "_perc_scrub_thr = 0.5\n",
    "\n",
    "# load data\n",
    "from glob import glob\n",
    "all_ts = []\n",
    "root_dir = '../data_in/ex_timeseries/'\n",
    "for f in glob(root_dir + 'bochum-???.tsv'):\n",
    "    path, filename = os.path.split(f)\n",
    "    ts = pd.read_csv(f, sep='\\t').iloc[:, 1:].values\n",
    "    ts = StandardScaler().fit_transform(ts)\n",
    "    fd = pd.read_csv(path + '/FD_' + os.path.splitext(filename)[0] + '.txt', sep=',').values.flatten()\n",
    "    fd = np.hstack(([0], fd))\n",
    "\n",
    "    if np.sum(fd>_fd_thr)/len(fd) < _perc_scrub_thr:\n",
    "        all_ts.append(ts[fd<_fd_thr])\n",
    "    else:\n",
    "        print('perc. scrubbed:', np.sum(fd>_fd_thr)/len(fd))\n",
    "\n",
    "all_ts = np.vstack([i for i in all_ts])"
   ]
  },
  {
   "cell_type": "markdown",
   "id": "623fbd52",
   "metadata": {},
   "source": [
    "### fcHNN"
   ]
  },
  {
   "cell_type": "code",
   "execution_count": 47,
   "id": "5c70216a",
   "metadata": {
    "ExecuteTime": {
     "end_time": "2023-10-24T11:10:07.464113Z",
     "start_time": "2023-10-24T11:10:06.904433Z"
    }
   },
   "outputs": [
    {
     "name": "stderr",
     "output_type": "stream",
     "text": [
      "100%|██████████████████████████████████████████████████████████████████████████████████████████████████████████████████████████████████████████████████████| 100000/100000 [02:13<00:00, 749.20it/s]\n",
      "100%|███████████████████████████████████████████████████████████████████████████████████████████████████████████████████████████████████████████████████████████| 7200/7200 [32:47<00:00,  3.66it/s]\n",
      "100%|██████████████████████████████████████████████████████████████████████████████████████████████████████████████████████████████████████████████████████| 100000/100000 [03:17<00:00, 505.56it/s]\n",
      "100%|███████████████████████████████████████████████████████████████████████████████████████████████████████████████████████████████████████████████████████████| 7200/7200 [17:26<00:00,  6.88it/s]\n",
      "100%|█████████████████████████████████████████████████████████████████████████████████████████████████████████████████████████████████████████████████████| 100000/100000 [01:36<00:00, 1033.81it/s]\n",
      "100%|███████████████████████████████████████████████████████████████████████████████████████████████████████████████████████████████████████████████████████████| 7200/7200 [08:48<00:00, 13.62it/s]\n",
      "100%|█████████████████████████████████████████████████████████████████████████████████████████████████████████████████████████████████████████████████████| 100000/100000 [00:36<00:00, 2768.77it/s]\n",
      "100%|███████████████████████████████████████████████████████████████████████████████████████████████████████████████████████████████████████████████████████████| 7200/7200 [06:52<00:00, 17.46it/s]\n"
     ]
    }
   ],
   "source": [
    "simresults_all = {}\n",
    "hopfield_embeddings_all = {}\n",
    "\n",
    "for noise in [0.33, 0.35, 0.37, 0.39]:\n",
    "    simresults_all[noise] = analysis.simulate_activations(mtx.values, noise_coef=noise, \n",
    "                                                          num_iter=100000, beta=0.04, random_state=2023)\n",
    "    hopfield_embeddings_all[noise] = analysis.create_embeddings(simresults_all[noise], \n",
    "                                                                attractor_sample=len(all_ts),random_state=2023)"
   ]
  },
  {
   "cell_type": "code",
   "execution_count": 48,
   "id": "0c8b2c51",
   "metadata": {
    "ExecuteTime": {
     "end_time": "2023-10-24T11:33:15.952423Z",
     "start_time": "2023-10-24T11:10:12.680652Z"
    }
   },
   "outputs": [
    {
     "name": "stderr",
     "output_type": "stream",
     "text": [
      "100%|███████████████████████████████████████████████████████████████████████████████████████████████████████████████████████████████████████████████████████████| 7200/7200 [07:10<00:00, 16.73it/s]\n",
      "100%|███████████████████████████████████████████████████████████████████████████████████████████████████████████████████████████████████████████████████████████| 7200/7200 [06:51<00:00, 17.48it/s]\n",
      "100%|███████████████████████████████████████████████████████████████████████████████████████████████████████████████████████████████████████████████████████████| 7200/7200 [07:10<00:00, 16.72it/s]\n",
      "100%|███████████████████████████████████████████████████████████████████████████████████████████████████████████████████████████████████████████████████████████| 7200/7200 [06:51<00:00, 17.51it/s]\n"
     ]
    }
   ],
   "source": [
    "# time spent in state\n",
    "emp_attractor_states = {}\n",
    "for noise in [0.33, 0.35, 0.37, 0.39]:\n",
    "    tmp = []\n",
    "    for s in tqdm(range(all_ts.shape[0])):\n",
    "        tmp.append(hopfield_embeddings_all[noise].hopnet.update(all_ts[s, :])[0])\n",
    "    emp_attractor_states[noise] = np.array(tmp)"
   ]
  },
  {
   "cell_type": "code",
   "execution_count": 160,
   "id": "ec493776",
   "metadata": {},
   "outputs": [],
   "source": [
    "emp_attractor_labels = {}\n",
    "for noise in [0.33, 0.35, 0.37, 0.39]:\n",
    "    emp_attractor_labels[noise] = []\n",
    "    for i in range(emp_attractor_states[noise].shape[0]):\n",
    "        for key in [0,1,2,3]:\n",
    "            #print(hopfield_embeddings_all[noise].attractors[key], emp_attractor_states[noise][i,:])\n",
    "            if np.allclose(hopfield_embeddings_all[noise].attractors[key], emp_attractor_states[noise][i,:], atol=0.001):\n",
    "                emp_attractor_labels[noise].append(key)\n",
    "                "
   ]
  },
  {
   "cell_type": "markdown",
   "id": "eadf79c8",
   "metadata": {},
   "source": [
    "## Now we use a phase randomized null model to generate a null-distribution for occupancy-similarity"
   ]
  },
  {
   "cell_type": "code",
   "execution_count": 51,
   "id": "774cee15",
   "metadata": {
    "ExecuteTime": {
     "end_time": "2023-10-24T11:47:19.850738Z",
     "start_time": "2023-10-24T11:45:46.925595Z"
    }
   },
   "outputs": [
    {
     "name": "stdout",
     "output_type": "stream",
     "text": [
      "noise: 0.33 stat: 57.99319130667239  p = 0.0\n"
     ]
    },
    {
     "data": {
      "image/png": "[encoded data removed]",
      "text/plain": [
       "<Figure size 200x200 with 1 Axes>"
      ]
     },
     "metadata": {},
     "output_type": "display_data"
    },
    {
     "name": "stdout",
     "output_type": "stream",
     "text": [
      "noise: 0.35 stat: 25.25857211267605  p = 0.0\n"
     ]
    },
    {
     "data": {
      "image/png": "[encoded data removed]",
      "text/plain": [
       "<Figure size 200x200 with 1 Axes>"
      ]
     },
     "metadata": {},
     "output_type": "display_data"
    },
    {
     "name": "stdout",
     "output_type": "stream",
     "text": [
      "noise: 0.37 stat: 12.33674137857482  p = 0.0\n"
     ]
    },
    {
     "data": {
      "image/png": "[encoded data removed]",
      "text/plain": [
       "<Figure size 200x200 with 1 Axes>"
      ]
     },
     "metadata": {},
     "output_type": "display_data"
    },
    {
     "name": "stdout",
     "output_type": "stream",
     "text": [
      "noise: 0.39 stat: 9.787634156887727  p = 0.0\n"
     ]
    },
    {
     "data": {
      "image/png": "[encoded data removed]",
      "text/plain": [
       "<Figure size 200x200 with 1 Axes>"
      ]
     },
     "metadata": {},
     "output_type": "display_data"
    }
   ],
   "source": [
    "random = np.random.default_rng(42)\n",
    "\n",
    "def phase_randomization(data):\n",
    "    # Get the shape of the data\n",
    "    num_samples, num_features = data.shape \n",
    "    # Create a copy of the data\n",
    "    randomized_data = np.copy(data)\n",
    "    # Iterate over each time-frame\n",
    "    for i in range(num_samples):\n",
    "        data = randomized_data[i, :]\n",
    "        fft_data = np.fft.fft(data)\n",
    "        phase = random.permutation(np.angle(fft_data)) # same perm for all region\n",
    "        randomized_data[i, :] = np.real(np.fft.ifft(np.abs(fft_data) * np.exp(1j * phase)))\n",
    "    \n",
    "    return randomized_data\n",
    "\n",
    "from scipy.stats import chisquare\n",
    "\n",
    "n_perm =1000\n",
    "\n",
    "for noise in [0.33, 0.35, 0.37, 0.39]:\n",
    "   \n",
    "    # simulated\n",
    "    sim_attractor_states = hopfield_embeddings_all[noise].attractor_sample\n",
    "    label_sim, counts_sim = np.unique(sim_attractor_states, return_counts=True)\n",
    "   \n",
    "    # empirical\n",
    "    label_emp, counts_emp = np.unique(emp_attractor_labels[noise], return_counts=True)\n",
    "    true_test_stat = chisquare(counts_sim, counts_emp).statistic\n",
    "   \n",
    "    # null distribution for empirical\n",
    "    test_stat_null = []\n",
    "    for i in range(n_perm):\n",
    "        \n",
    "        all_ts_phaserand = phase_randomization(all_ts)\n",
    "        \n",
    "        embedded = hopfield_embeddings_all[noise].embedding_model.transform(all_ts_phaserand)[:, :2]\n",
    "        attractor_labels = hopfield_embeddings_all[noise].attractor_model.predict(embedded)\n",
    "        label_emp_shuffled, counts_emp_shuffled = np.unique(attractor_labels, return_counts=True)\n",
    "        test_stat_null.append(chisquare(counts_sim, counts_emp_shuffled).statistic) # does this differ from empirical data?\n",
    "    plt.figure(figsize=(2,2))\n",
    "    sns.histplot(test_stat_null)\n",
    "    plt.axvline(true_test_stat, color='red')\n",
    "    print('noise:', noise, 'stat:', true_test_stat, ' p =', np.sum(np.array(test_stat_null) < true_test_stat) / n_perm)\n",
    "    plt.show()"
   ]
  },
  {
   "cell_type": "markdown",
   "id": "de68b45a",
   "metadata": {},
   "source": [
    "### Fractional occupancy is predicted for real data significantly better then for spatially phase randomized null data"
   ]
  },
  {
   "cell_type": "markdown",
   "id": "cf9fad06",
   "metadata": {},
   "source": [
    "## Another null model: sampling from a multivariate normal."
   ]
  },
  {
   "cell_type": "code",
   "execution_count": 164,
   "id": "a50129d8",
   "metadata": {},
   "outputs": [
    {
     "name": "stdout",
     "output_type": "stream",
     "text": [
      "noise: 0.33 stat: 91.88249069188912  p = 0.887\n"
     ]
    },
    {
     "data": {
      "image/png": "[encoded data removed]",
      "text/plain": [
       "<Figure size 200x200 with 1 Axes>"
      ]
     },
     "metadata": {},
     "output_type": "display_data"
    },
    {
     "name": "stdout",
     "output_type": "stream",
     "text": [
      "noise: 0.35 stat: 42.12373060169628  p = 0.762\n"
     ]
    },
    {
     "data": {
      "image/png": "[encoded data removed]",
      "text/plain": [
       "<Figure size 200x200 with 1 Axes>"
      ]
     },
     "metadata": {},
     "output_type": "display_data"
    },
    {
     "name": "stdout",
     "output_type": "stream",
     "text": [
      "noise: 0.37 stat: 21.565370837595296  p = 0.015\n"
     ]
    },
    {
     "data": {
      "image/png": "[encoded data removed]",
      "text/plain": [
       "<Figure size 200x200 with 1 Axes>"
      ]
     },
     "metadata": {},
     "output_type": "display_data"
    },
    {
     "name": "stdout",
     "output_type": "stream",
     "text": [
      "noise: 0.39 stat: 6.92166322039787  p = 0.002\n"
     ]
    },
    {
     "data": {
      "image/png": "[encoded data removed]",
      "text/plain": [
       "<Figure size 200x200 with 1 Axes>"
      ]
     },
     "metadata": {},
     "output_type": "display_data"
    }
   ],
   "source": [
    "random = np.random.default_rng(42)\n",
    "\n",
    "connfile = '../data_in/ex_connectome_partial_correlation.csv'\n",
    "mtx = pd.read_csv(connfile).iloc[:, 1:]\n",
    "\n",
    "from scipy.stats import chisquare\n",
    "\n",
    "n_perm =1000\n",
    "\n",
    "for noise in [0.33, 0.35, 0.37, 0.39]:\n",
    "   \n",
    "    # simulated\n",
    "    sim_states = hopfield_embeddings_all[noise].state_sample\n",
    "    sim_embedded = hopfield_embeddings_all[noise].embedding_model.transform(sim_states)[:, :2]\n",
    "    sim_attractor_states = hopfield_embeddings_all[noise].attractor_sample\n",
    "    label_sim, counts_sim = np.unique(sim_attractor_states, return_counts=True)\n",
    "    \n",
    "    label_emp, counts_emp = np.unique(emp_attractor_labels[noise], return_counts=True)\n",
    "    true_test_stat = chisquare(counts_sim, counts_emp).statistic # the higher the stat the bigger the diff\n",
    "   \n",
    "    # null distribution for simulated\n",
    "    test_stat_null = []\n",
    "    for i in range(n_perm):\n",
    "        \n",
    "        all_ts_multivariate_normal = random.multivariate_normal(mean=np.repeat(0, mtx.shape[0]), \n",
    "                                                                cov=mtx.values, \n",
    "                                                                size=all_ts.shape[0])\n",
    "        \n",
    "        embedded = hopfield_embeddings_all[noise].embedding_model.transform(all_ts_multivariate_normal)[:, :2]\n",
    "        # multivariate normal knows about the mean and std of the original distribution\n",
    "        # we must give equal chances: rescale it to have the same range as the fcHNN simulated data\n",
    "        embedded = (((embedded-np.mean(embedded)) / np.std(embedded)) * np.std(sim_embedded))+ np.mean(sim_embedded)\n",
    "        attractor_labels = hopfield_embeddings_all[noise].attractor_model.predict(embedded)\n",
    "        label_sim_null, counts_sim_null = np.unique(attractor_labels, return_counts=True)\n",
    "        test_stat_null.append(chisquare(counts_sim_null, counts_emp).statistic) # does this differ from empirical data?\n",
    "    \n",
    "    plt.figure(figsize=(2,2))\n",
    "    sns.histplot(test_stat_null)\n",
    "    plt.axvline(true_test_stat, color='red')\n",
    "    print('noise:', noise, 'stat:', true_test_stat, ' p =', np.sum(np.array(test_stat_null) < true_test_stat) / n_perm)\n",
    "    plt.show()"
   ]
  },
  {
   "cell_type": "markdown",
   "id": "917eef5c",
   "metadata": {},
   "source": [
    "### Fractional occupancy is predicted significantly better by fcHNN then by multivariate normal null data (with the functional covariance matrix) only with sigma=0.39"
   ]
  },
  {
   "cell_type": "code",
   "execution_count": null,
   "id": "7d2a644c",
   "metadata": {},
   "outputs": [],
   "source": []
  }
 ],
 "metadata": {
  "hide_input": false,
  "kernelspec": {
   "display_name": "Python 3 (ipykernel)",
   "language": "python",
   "name": "python3"
  },
  "language_info": {
   "codemirror_mode": {
    "name": "ipython",
    "version": 3
   },
   "file_extension": ".py",
   "mimetype": "text/x-python",
   "name": "python",
   "nbconvert_exporter": "python",
   "pygments_lexer": "ipython3",
   "version": "3.10.8"
  }
 },
 "nbformat": 4,
 "nbformat_minor": 5
}
