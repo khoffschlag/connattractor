{
 "cells": [
  {
   "cell_type": "markdown",
   "id": "98026609",
   "metadata": {},
   "source": [
    "# An extended evaluation of the results with various null-modelling appoaches"
   ]
  },
  {
   "cell_type": "code",
   "execution_count": 3,
   "id": "ac2f9201",
   "metadata": {
    "ExecuteTime": {
     "end_time": "2023-10-24T11:10:05.775325Z",
     "start_time": "2023-10-24T11:10:05.746882Z"
    }
   },
   "outputs": [
    {
     "name": "stdout",
     "output_type": "stream",
     "text": [
      "The autoreload extension is already loaded. To reload it, use:\n",
      "  %reload_ext autoreload\n"
     ]
    }
   ],
   "source": [
    "import sys\n",
    "sys.path.append('..')\n",
    "import numpy as np\n",
    "import pandas as pd\n",
    "import seaborn as sns\n",
    "import matplotlib.pyplot as plt\n",
    "import matplotlib\n",
    "matplotlib.rc_file_defaults()\n",
    "from sklearn.preprocessing import StandardScaler\n",
    "import nilearn\n",
    "from tqdm import tqdm\n",
    "from connattractor import network, analysis\n",
    "%load_ext autoreload\n",
    "%autoreload 1\n",
    "%aimport connattractor.network\n",
    "%aimport connattractor.analysis"
   ]
  },
  {
   "cell_type": "markdown",
   "id": "623fbd52",
   "metadata": {},
   "source": [
    "### load simulations and embeddings"
   ]
  },
  {
   "cell_type": "code",
   "execution_count": 4,
   "id": "5c70216a",
   "metadata": {
    "ExecuteTime": {
     "end_time": "2023-10-24T11:10:07.464113Z",
     "start_time": "2023-10-24T11:10:06.904433Z"
    }
   },
   "outputs": [],
   "source": [
    "simresults_all = {}\n",
    "hopfield_embeddings_all = {}\n",
    "\n",
    "for noise in [0.33, 0.35, 0.37, 0.39]:\n",
    "    simresults_all[noise] = analysis.load_simulation('../data_out/default_statespace_' + str(noise) + '.pkl')\n",
    "    hopfield_embeddings_all[noise] = analysis.load_embedding('../data_out/default_hopfield_embedding_' + str(noise) + '.pkl')"
   ]
  },
  {
   "cell_type": "markdown",
   "id": "3efd92b0",
   "metadata": {},
   "source": [
    "## Fractional occupancy"
   ]
  },
  {
   "cell_type": "markdown",
   "id": "a6551312",
   "metadata": {},
   "source": [
    "### load empirical data"
   ]
  },
  {
   "cell_type": "code",
   "execution_count": 5,
   "id": "63f9e9e0",
   "metadata": {
    "ExecuteTime": {
     "end_time": "2023-10-24T11:10:11.722924Z",
     "start_time": "2023-10-24T11:10:10.220489Z"
    }
   },
   "outputs": [
    {
     "name": "stdout",
     "output_type": "stream",
     "text": [
      "perc. scrubbed: 0.515\n"
     ]
    }
   ],
   "source": [
    "import os\n",
    "# load resting state data\n",
    "_fd_thr = 0.15\n",
    "_perc_scrub_thr = 0.5\n",
    "\n",
    "# load data\n",
    "from glob import glob\n",
    "all_ts = []\n",
    "root_dir = '../data_in/ex_timeseries/'\n",
    "for f in glob(root_dir + 'bochum-???.tsv'):\n",
    "    path, filename = os.path.split(f)\n",
    "    ts = pd.read_csv(f, sep='\\t').iloc[:, 1:].values\n",
    "    ts = StandardScaler().fit_transform(ts)\n",
    "    fd = pd.read_csv(path + '/FD_' + os.path.splitext(filename)[0] + '.txt', sep=',').values.flatten()\n",
    "    fd = np.hstack(([0], fd))\n",
    "\n",
    "    if np.sum(fd>_fd_thr)/len(fd) < _perc_scrub_thr:\n",
    "        all_ts.append(ts[fd<_fd_thr])\n",
    "    else:\n",
    "        print('perc. scrubbed:', np.sum(fd>_fd_thr)/len(fd))\n",
    "\n",
    "all_ts = np.vstack([i for i in all_ts])"
   ]
  },
  {
   "cell_type": "code",
   "execution_count": 6,
   "id": "0c8b2c51",
   "metadata": {
    "ExecuteTime": {
     "end_time": "2023-10-24T11:33:15.952423Z",
     "start_time": "2023-10-24T11:10:12.680652Z"
    }
   },
   "outputs": [
    {
     "name": "stderr",
     "output_type": "stream",
     "text": [
      "100%|██████████| 7200/7200 [06:05<00:00, 19.70it/s]\n",
      "100%|██████████| 7200/7200 [05:32<00:00, 21.63it/s]\n",
      "100%|██████████| 7200/7200 [05:19<00:00, 22.54it/s]\n",
      "100%|██████████| 7200/7200 [06:05<00:00, 19.72it/s]\n"
     ]
    }
   ],
   "source": [
    "# time spent in state\n",
    "emp_attractor_states = {}\n",
    "for noise in [0.33, 0.35, 0.37, 0.39]:\n",
    "    tmp = []\n",
    "    for s in tqdm(range(all_ts.shape[0])):\n",
    "        tmp.append(hopfield_embeddings_all[noise].hopnet.update(all_ts[s, :])[0])\n",
    "    emp_attractor_states[noise] = np.array(tmp)"
   ]
  },
  {
   "cell_type": "markdown",
   "id": "eadf79c8",
   "metadata": {},
   "source": [
    "## Now we use pase randomized timeseries to generate a null-distribution for occupancy-similarity"
   ]
  },
  {
   "cell_type": "code",
   "execution_count": 9,
   "id": "774cee15",
   "metadata": {
    "ExecuteTime": {
     "end_time": "2023-10-24T11:47:19.850738Z",
     "start_time": "2023-10-24T11:45:46.925595Z"
    }
   },
   "outputs": [
    {
     "name": "stdout",
     "output_type": "stream",
     "text": [
      "noise: 0.33 stat: 22.226381224207035  p = 0.0\n"
     ]
    },
    {
     "data": {
      "image/png": "[encoded data removed]",
      "text/plain": [
       "<Figure size 432x288 with 1 Axes>"
      ]
     },
     "metadata": {
      "needs_background": "light"
     },
     "output_type": "display_data"
    },
    {
     "name": "stdout",
     "output_type": "stream",
     "text": [
      "noise: 0.35 stat: 8.33360831690217  p = 0.0\n"
     ]
    },
    {
     "data": {
      "image/png": "[encoded data removed]",
      "text/plain": [
       "<Figure size 432x288 with 1 Axes>"
      ]
     },
     "metadata": {
      "needs_background": "light"
     },
     "output_type": "display_data"
    },
    {
     "name": "stdout",
     "output_type": "stream",
     "text": [
      "noise: 0.37 stat: 8.829897908638847  p = 0.0\n"
     ]
    },
    {
     "data": {
      "image/png": "[encoded data removed]",
      "text/plain": [
       "<Figure size 432x288 with 1 Axes>"
      ]
     },
     "metadata": {
      "needs_background": "light"
     },
     "output_type": "display_data"
    },
    {
     "name": "stdout",
     "output_type": "stream",
     "text": [
      "noise: 0.39 stat: 6.897702779460083  p = 0.0\n"
     ]
    },
    {
     "data": {
      "image/png": "[encoded data removed]",
      "text/plain": [
       "<Figure size 432x288 with 1 Axes>"
      ]
     },
     "metadata": {
      "needs_background": "light"
     },
     "output_type": "display_data"
    }
   ],
   "source": [
    "random = np.random.default_rng(42)\n",
    "\n",
    "def phase_randomization(data):\n",
    "    # Get the shape of the data\n",
    "    num_samples, num_features = data.shape \n",
    "    # Create a copy of the data\n",
    "    randomized_data = np.copy(data)\n",
    "    # Iterate over each feature\n",
    "    for i in range(num_features):\n",
    "        data = randomized_data[:, i]\n",
    "        fft_data = np.fft.fft(data)\n",
    "        phase = random.permutation(np.angle(fft_data)) # same perm for all region\n",
    "        randomized_data[:, i] = np.real(np.fft.ifft(np.abs(fft_data) * np.exp(1j * phase)))\n",
    "    \n",
    "    return randomized_data\n",
    "\n",
    "\n",
    "from scipy.stats import chisquare\n",
    "\n",
    "n_perm =1000\n",
    "attractor_order  = [2, 0, 1, 3]\n",
    "\n",
    "for noise in [0.33, 0.35, 0.37, 0.39]:\n",
    "   \n",
    "    # simulated\n",
    "    sim_attractor_states = hopfield_embeddings_all[noise].attractor_sample\n",
    "    label_sim, counts_sim = np.unique(sim_attractor_states, return_counts=True)\n",
    "   \n",
    "    # empirical\n",
    "    embedded = hopfield_embeddings_all[noise].embedding_model.transform(all_ts[:1000])[:, :2]\n",
    "    attractor_labels = hopfield_embeddings_all[noise].attractor_model.predict(embedded)\n",
    "    label_emp, counts_emp = np.unique(attractor_labels, return_counts=True)\n",
    "    true_test_stat = chisquare(counts_emp, counts_sim).statistic\n",
    "   \n",
    "    # null distribution for empirical\n",
    "    test_stat_null = []\n",
    "    for i in range(n_perm):\n",
    "        \n",
    "        # phase randomise all_ts[:1000, :] across axis = 1\n",
    "        all_ts_phaserand = phase_randomization(all_ts[:1000, :])\n",
    "        \n",
    "        embedded = hopfield_embeddings_all[noise].embedding_model.transform(all_ts_phaserand)[:, :2]\n",
    "        attractor_labels = hopfield_embeddings_all[noise].attractor_model.predict(embedded)\n",
    "        label_emp_shuffled, counts_emp_shuffled = np.unique(attractor_labels, return_counts=True)\n",
    "        #print(counts_emp / np.sum(counts_emp) * 100)\n",
    "        #print(counts / np.sum(counts) * 100)\n",
    "        test_stat_null.append(chisquare(counts_emp_shuffled, counts_sim).statistic) # does this differ from empirical data?\n",
    "    sns.histplot(test_stat_null)\n",
    "    plt.axvline(true_test_stat, color='red')\n",
    "    print('noise:', noise, 'stat:', true_test_stat, ' p =', np.sum(np.array(test_stat_null) < true_test_stat) / n_perm)\n",
    "    plt.show()"
   ]
  },
  {
   "cell_type": "markdown",
   "id": "917eef5c",
   "metadata": {},
   "source": [
    "### Fractional occupancy is predicted for real data significantly better then for null data\n",
    "#### regardless of the noise parameter!"
   ]
  },
  {
   "cell_type": "markdown",
   "id": "80e74bea",
   "metadata": {
    "ExecuteTime": {
     "end_time": "2023-10-24T12:10:04.911901Z",
     "start_time": "2023-10-24T12:10:04.827021Z"
    }
   },
   "source": [
    "### Null model 2: multivariate normal distribution"
   ]
  },
  {
   "cell_type": "code",
   "execution_count": 27,
   "id": "fedbff5e",
   "metadata": {
    "ExecuteTime": {
     "end_time": "2023-10-24T12:21:43.279983Z",
     "start_time": "2023-10-24T12:21:43.197150Z"
    }
   },
   "outputs": [
    {
     "data": {
      "text/plain": [
       "(100, 122)"
      ]
     },
     "execution_count": 27,
     "metadata": {},
     "output_type": "execute_result"
    }
   ],
   "source": [
    "connfile = '../data_in/ex_connectome_partial_correlation.csv'\n",
    "mtx = pd.read_csv(connfile).iloc[:, 1:]\n",
    "\n",
    "random = np.random.default_rng(42)\n",
    "sample = random.multivariate_normal(mean=np.repeat(0, mtx.shape[0]), cov=mtx, size=100)\n",
    "sample.shape"
   ]
  },
  {
   "cell_type": "code",
   "execution_count": 30,
   "id": "14ce0afa",
   "metadata": {
    "ExecuteTime": {
     "end_time": "2023-10-24T12:22:33.200359Z",
     "start_time": "2023-10-24T12:22:15.462808Z"
    }
   },
   "outputs": [
    {
     "name": "stderr",
     "output_type": "stream",
     "text": [
      "100%|██████████| 100/100 [00:04<00:00, 22.22it/s]\n",
      "100%|██████████| 100/100 [00:04<00:00, 24.39it/s]\n",
      "100%|██████████| 100/100 [00:04<00:00, 23.30it/s]\n",
      "100%|██████████| 100/100 [00:04<00:00, 20.78it/s]\n"
     ]
    }
   ],
   "source": [
    "multivar_morm_attractor_states = {}\n",
    "for noise in [0.33, 0.35, 0.37, 0.39]:\n",
    "    tmp = []\n",
    "    for s in tqdm(range(sample.shape[0])):\n",
    "        tmp.append(hopfield_embeddings_all[noise].hopnet.update(sample[s, :])[0])\n",
    "    multivar_morm_attractor_states[noise] = np.array(tmp)"
   ]
  },
  {
   "cell_type": "code",
   "execution_count": 31,
   "id": "176d29e1",
   "metadata": {
    "ExecuteTime": {
     "end_time": "2023-10-24T12:23:23.179373Z",
     "start_time": "2023-10-24T12:23:22.236621Z"
    }
   },
   "outputs": [
    {
     "name": "stdout",
     "output_type": "stream",
     "text": [
      "0.33\n",
      "[38.8 36.4 12.9 11.9]\n",
      "[45.3 35.4  9.6  9.7]\n",
      "Power_divergenceResult(statistic=23.672987888329814, pvalue=2.9231147362649053e-05)\n",
      "0.35\n",
      "[12.9 38.8 36.4 11.9]\n",
      "[10.4 42.5 36.2 10.9]\n",
      "Power_divergenceResult(statistic=9.224636901216787, pvalue=0.026448610775167667)\n",
      "0.37\n",
      "[12.9 38.8 36.4 11.9]\n",
      "[10.5 41.9 37.1 10.5]\n",
      "Power_divergenceResult(statistic=8.723594610925904, pvalue=0.03320078808454163)\n",
      "0.39\n",
      "[12.9 38.8 11.9 36.4]\n",
      "[10.5 40.7 10.7 38.1]\n",
      "Power_divergenceResult(statistic=7.399568727773278, pvalue=0.060195896402164)\n"
     ]
    }
   ],
   "source": [
    "from scipy.stats import chisquare\n",
    "\n",
    "attractor_order  = [2, 0, 1, 3]\n",
    "\n",
    "for noise in [0.33, 0.35, 0.37, 0.39]:\n",
    "    print(noise)\n",
    "    \n",
    "    attractors = { tuple(v): k for k, v in hopfield_embeddings_all[noise].attractors.items() }\n",
    "    attractor_labels = []\n",
    "    \n",
    "    for a in emp_attractor_states[noise]: \n",
    "        attractor_labels.append(attractors[tuple(np.round(a, 6))])\n",
    "    \n",
    "    label_emp, counts_emp = np.unique(attractor_labels[:1000], return_counts=True) # sample empirical data\n",
    "    \n",
    "    sim_attractor_states = hopfield_embeddings_all[noise].attractor_sample\n",
    "    label, counts = np.unique(sim_attractor_states, return_counts=True)\n",
    "    \n",
    "    #plt.pie(counts[attractor_order], labels = label[attractor_order])\n",
    "    # add a white circle at the center\n",
    "    #my_circle=plt.Circle( (0,0), 0.7, color='white')\n",
    "    #p=plt.gcf()\n",
    "    #p.gca().add_artist(my_circle)\n",
    "    #plt.show()\n",
    "    print(counts_emp / np.sum(counts_emp) * 100)\n",
    "    print(counts / np.sum(counts) * 100)\n",
    "    print(chisquare(counts, counts_emp)) # does this differ from empirical data?"
   ]
  },
  {
   "cell_type": "code",
   "execution_count": null,
   "id": "9aec72ad",
   "metadata": {},
   "outputs": [],
   "source": [
    "from scipy.stats import chisquare\n",
    "\n",
    "attractor_order  = [2, 0, 1, 3]\n",
    "\n",
    "for noise in [0.33, 0.35, 0.37, 0.39]:\n",
    "    print(noise)\n",
    "    \n",
    "    attractors = { tuple(v): k for k, v in hopfield_embeddings_all[noise].attractors.items() }\n",
    "    attractor_labels = []\n",
    "    \n",
    "    for a in emp_attractor_states[noise]: \n",
    "        attractor_labels.append(attractors[tuple(np.round(a, 6))])\n",
    "    \n",
    "    label_emp, counts_emp = np.unique(attractor_labels[:1000], return_counts=True) # sample empirical data\n",
    "    \n",
    "    sim_attractor_states = hopfield_embeddings_all[noise].attractor_sample\n",
    "    label, counts = np.unique(sim_attractor_states, return_counts=True)\n",
    "    \n",
    "    #plt.pie(counts[attractor_order], labels = label[attractor_order])\n",
    "    # add a white circle at the center\n",
    "    #my_circle=plt.Circle( (0,0), 0.7, color='white')\n",
    "    #p=plt.gcf()\n",
    "    #p.gca().add_artist(my_circle)\n",
    "    #plt.show()\n",
    "    print(counts_emp / np.sum(counts_emp) * 100)\n",
    "    print(counts / np.sum(counts) * 100)\n",
    "    print(chisquare(counts, counts_emp)) # does this differ from empirical data?"
   ]
  }
 ],
 "metadata": {
  "hide_input": false,
  "kernelspec": {
   "display_name": "Python 3",
   "language": "python",
   "name": "python3"
  },
  "language_info": {
   "codemirror_mode": {
    "name": "ipython",
    "version": 3
   },
   "file_extension": ".py",
   "mimetype": "text/x-python",
   "name": "python",
   "nbconvert_exporter": "python",
   "pygments_lexer": "ipython3",
   "version": "3.7.4"
  }
 },
 "nbformat": 4,
 "nbformat_minor": 5
}
