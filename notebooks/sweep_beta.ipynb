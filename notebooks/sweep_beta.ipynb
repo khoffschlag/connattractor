{
 "cells": [
  {
   "cell_type": "code",
   "execution_count": 1,
   "metadata": {
    "ExecuteTime": {
     "end_time": "2023-06-23T12:59:59.646547142Z",
     "start_time": "2023-06-23T12:59:58.852518425Z"
    }
   },
   "outputs": [],
   "source": [
    "from connattractor import analysis\n",
    "import numpy as np\n",
    "import pandas as pd\n",
    "import seaborn as sns\n",
    "import matplotlib.pyplot as plt"
   ]
  },
  {
   "cell_type": "code",
   "execution_count": 2,
   "metadata": {
    "ExecuteTime": {
     "end_time": "2023-06-23T13:04:53.720936132Z",
     "start_time": "2023-06-23T13:04:53.651235561Z"
    }
   },
   "outputs": [],
   "source": [
    "connfile = '../data_in/ex_connectome_partial_correlation.csv'\n",
    "mtx = pd.read_csv(connfile).iloc[:,1:]"
   ]
  },
  {
   "cell_type": "markdown",
   "metadata": {},
   "source": [
    "## Sweep beta with adjusted noise"
   ]
  },
  {
   "cell_type": "code",
   "execution_count": 4,
   "metadata": {
    "ExecuteTime": {
     "end_time": "2023-06-23T13:28:40.050850643Z",
     "start_time": "2023-06-23T13:24:26.316315491Z"
    }
   },
   "outputs": [
    {
     "name": "stderr",
     "output_type": "stream",
     "text": [
      "100%|██████████| 100000/100000 [00:43<00:00, 2307.32it/s]\n"
     ]
    },
    {
     "ename": "AttributeError",
     "evalue": "'dict' object has no attribute 'states'",
     "output_type": "error",
     "traceback": [
      "\u001B[0;31m---------------------------------------------------------------------------\u001B[0m",
      "\u001B[0;31mAttributeError\u001B[0m                            Traceback (most recent call last)",
      "Cell \u001B[0;32mIn[4], line 7\u001B[0m\n\u001B[1;32m      5\u001B[0m \u001B[38;5;28;01mfor\u001B[39;00m beta, noise_coef \u001B[38;5;129;01min\u001B[39;00m [(\u001B[38;5;241m0.04\u001B[39m, \u001B[38;5;241m0.3\u001B[39m), (\u001B[38;5;241m0.05\u001B[39m, \u001B[38;5;241m0.3\u001B[39m), (\u001B[38;5;241m0.055\u001B[39m, \u001B[38;5;241m0.3\u001B[39m), (\u001B[38;5;241m0.06\u001B[39m, \u001B[38;5;241m0.3\u001B[39m), (\u001B[38;5;241m0.065\u001B[39m, \u001B[38;5;241m0.3\u001B[39m)]:\n\u001B[1;32m      6\u001B[0m     simresults[beta] \u001B[38;5;241m=\u001B[39m analysis\u001B[38;5;241m.\u001B[39msimulate_activations(mtx\u001B[38;5;241m.\u001B[39mvalues, noise_coef\u001B[38;5;241m=\u001B[39mnoise_coef, num_iter\u001B[38;5;241m=\u001B[39m\u001B[38;5;241m100000\u001B[39m, beta\u001B[38;5;241m=\u001B[39mbeta)\n\u001B[0;32m----> 7\u001B[0m     hopfield_embeddings[beta] \u001B[38;5;241m=\u001B[39m \u001B[43manalysis\u001B[49m\u001B[38;5;241;43m.\u001B[39;49m\u001B[43mcreate_embeddings\u001B[49m\u001B[43m(\u001B[49m\u001B[43msimresults\u001B[49m\u001B[43m,\u001B[49m\u001B[43m \u001B[49m\u001B[43mattractor_sample\u001B[49m\u001B[38;5;241;43m=\u001B[39;49m\u001B[38;5;241;43m1000\u001B[39;49m\u001B[43m)\u001B[49m\n",
      "File \u001B[0;32m~/src/connattractor/connattractor/analysis.py:333\u001B[0m, in \u001B[0;36mcreate_embeddings\u001B[0;34m(simulation, attractor_sample, num_hopfield_iter, attractor_model_dim, random_state, progress, **kwargs)\u001B[0m\n\u001B[1;32m    331\u001B[0m \u001B[38;5;66;03m# PCA on simulated hopfield states\u001B[39;00m\n\u001B[1;32m    332\u001B[0m pca \u001B[38;5;241m=\u001B[39m PCA(\u001B[38;5;241m*\u001B[39m\u001B[38;5;241m*\u001B[39mkwargs)\n\u001B[0;32m--> 333\u001B[0m states \u001B[38;5;241m=\u001B[39m StandardScaler()\u001B[38;5;241m.\u001B[39mfit_transform(\u001B[43msimulation\u001B[49m\u001B[38;5;241;43m.\u001B[39;49m\u001B[43mstates\u001B[49m\u001B[38;5;241m.\u001B[39mT)\u001B[38;5;241m.\u001B[39mT\n\u001B[1;32m    334\u001B[0m embedded \u001B[38;5;241m=\u001B[39m pca\u001B[38;5;241m.\u001B[39mfit_transform(states)\n\u001B[1;32m    336\u001B[0m \u001B[38;5;66;03m# calculate attractor states for a subsample\u001B[39;00m\n",
      "\u001B[0;31mAttributeError\u001B[0m: 'dict' object has no attribute 'states'"
     ]
    }
   ],
   "source": [
    "simresults = dict()\n",
    "hopfiled_embeddings = dict()\n",
    "\n",
    "i = 0\n",
    "for beta, noise_coef in [(0.04, 0.3), (0.05, 0.3), (0.055, 0.3), (0.06, 0.3), (0.065, 0.3)]:\n",
    "    simresults[beta] = analysis.simulate_activations(mtx.values, noise_coef=noise_coef, num_iter=100000, beta=beta)\n",
    "    hopfield_embeddings[beta] = analysis.create_embeddings(simresults, attractor_sample=1000)\n",
    "    "
   ]
  },
  {
   "cell_type": "code",
   "execution_count": null,
   "metadata": {},
   "outputs": [],
   "source": []
  }
 ],
 "metadata": {
  "kernelspec": {
   "display_name": "Python 3 (ipykernel)",
   "language": "python",
   "name": "python3"
  },
  "language_info": {
   "codemirror_mode": {
    "name": "ipython",
    "version": 3
   },
   "file_extension": ".py",
   "mimetype": "text/x-python",
   "name": "python",
   "nbconvert_exporter": "python",
   "pygments_lexer": "ipython3",
   "version": "3.10.6"
  }
 },
 "nbformat": 4,
 "nbformat_minor": 1
}
